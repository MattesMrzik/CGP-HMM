{
 "cells": [
  {
   "cell_type": "code",
   "execution_count": 38,
   "id": "27570da2",
   "metadata": {},
   "outputs": [
    {
     "data": {
      "application/vnd.jupyter.widget-view+json": {
       "model_id": "b26c3cc350554257b53db7d03496274f",
       "version_major": 2,
       "version_minor": 0
      },
      "text/plain": [
       "interactive(children=(FloatSlider(value=0.5, description='a', layout=Layout(width='800px'), max=1.0, min=0.01,…"
      ]
     },
     "metadata": {},
     "output_type": "display_data"
    }
   ],
   "source": [
    "import numpy as np\n",
    "import matplotlib.pyplot as plt\n",
    "from scipy.stats import dirichlet\n",
    "from ipywidgets import interact, FloatSlider, Layout\n",
    "\n",
    "@interact(a = FloatSlider(min = 0.01,value = 0.5, max = 1, step = 0.01, layout=Layout(width='800px')), \\\n",
    "          b = FloatSlider(min = 0.01, value = .5, max = 1, step = 0.01, layout=Layout(width='800px')), \\\n",
    "          s = FloatSlider(min = 1, value = 5, max = 1000,  step = 1   , layout=Layout(width='800px')))\n",
    "def plot(a,b,s):\n",
    "    print(a,b,s)\n",
    "    fig, axs = plt.subplots(2, 2, figsize=(12, 6))\n",
    "    ax1 = axs[0,0]\n",
    "    ax2 = axs[0,1]\n",
    "    ax3 = axs[1,0]\n",
    "    ax4 = axs[1,1]\n",
    "    alpha = np.array([a, (1-a)*b, 1-a-(1-a)*b]) * s\n",
    "    # Define the parameters of the Dirichlet distribution\n",
    "    print(alpha)\n",
    "    # Generate a grid of points within the 2-simplex\n",
    "    res = 0.02\n",
    "    x = np.arange(0, 1 + res, res)\n",
    "    y = np.arange(0, 1 + res, res)\n",
    "\n",
    "    X, Y = np.meshgrid(x, y)\n",
    "    Z = np.stack([X, Y, 1 - X - Y], axis=-1)\n",
    "\n",
    "    # Calculate the Dirichlet density for each point in the grid\n",
    "    density_values = np.zeros_like(X)\n",
    "    for i in range(Z.shape[0]):\n",
    "        for j in range(Z.shape[1]):\n",
    "            point = Z[i, j, :]\n",
    "            if np.all(point > 0) and np.all(point <= 1):  # Check if all entries are within [0, 1]\n",
    "                density_values[i, j] = dirichlet.pdf(point, alpha)\n",
    "\n",
    "    # Create a contour plot of the Dirichlet density\n",
    "\n",
    "    contour = ax1.contourf(X, Y, density_values, cmap='viridis')\n",
    "    cbar = plt.colorbar(contour, ax = ax1)\n",
    "    cbar.set_label('Probability Density')\n",
    "\n",
    "\n",
    "    # Add labels and title\n",
    "    ax1.set_xlabel('x')\n",
    "    ax1.set_ylabel('y')\n",
    "    ax1.set_title(f'{alpha}, {alpha/sum(alpha)}')\n",
    "    \n",
    "    contour = ax3.contourf(X, Y, np.log(density_values), cmap='viridis')\n",
    "    cbar = plt.colorbar(contour, ax = ax3)\n",
    "    cbar.set_label('Probability Density')\n",
    "\n",
    "\n",
    "\n",
    "    # Display the plot\n",
    "\n",
    "    a = alpha[:2]\n",
    "    x = np.arange(0.02,1,0.02)\n",
    "    y = [dirichlet.pdf([xs, 1-xs], a) for xs in x]\n",
    "    ax2.plot(x,y)\n",
    "    ax2.set_title(f\"{a}, {a/sum(a)}\")\n",
    "    # plt.savefig(\"dirichlet.png\")\n",
    "    plt.show()\n",
    "    \n",
    "    y = [np.log(dirichlet.pdf([xs, 1-xs], a)) for xs in x]\n",
    "    ax4.plot(x,y)\n",
    "    ax4.set_title(f\"{a}, {a/sum(a)}\")\n",
    "    # plt.savefig(\"dirichlet.png\")\n",
    "    plt.show()\n",
    "\n",
    "a = np.array([0.85, 0.14, 0.01]) * 1\n",
    "\n",
    "\n",
    "\n",
    "\n"
   ]
  },
  {
   "cell_type": "code",
   "execution_count": null,
   "id": "444da609",
   "metadata": {},
   "outputs": [],
   "source": []
  }
 ],
 "metadata": {
  "kernelspec": {
   "display_name": "Python 3 (ipykernel)",
   "language": "python",
   "name": "python3"
  },
  "language_info": {
   "codemirror_mode": {
    "name": "ipython",
    "version": 3
   },
   "file_extension": ".py",
   "mimetype": "text/x-python",
   "name": "python",
   "nbconvert_exporter": "python",
   "pygments_lexer": "ipython3",
   "version": "3.10.6"
  }
 },
 "nbformat": 4,
 "nbformat_minor": 5
}
